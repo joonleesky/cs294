{
 "cells": [
  {
   "cell_type": "code",
   "execution_count": 3,
   "metadata": {},
   "outputs": [],
   "source": [
    "import numpy as np\n",
    "from utils import *\n",
    "import matplotlib.pyplot as plt\n",
    "import pandas as pd"
   ]
  },
  {
   "cell_type": "markdown",
   "metadata": {},
   "source": [
    "### HYPER PARAMETERS"
   ]
  },
  {
   "cell_type": "code",
   "execution_count": 4,
   "metadata": {},
   "outputs": [],
   "source": [
    "env_names = ['Ant-v2','HalfCheetah-v2','Hopper-v2','Humanoid-v2','Reacher-v2','Walker2d-v2']\n",
    "hidden_dim = 100  # (100, 50)\n",
    "batch_size = 32\n",
    "epoch = 25\n",
    "\n",
    "iters = 2 # Dagger iterations\n",
    "rollouts = 20"
   ]
  },
  {
   "cell_type": "markdown",
   "metadata": {},
   "source": [
    "## Results"
   ]
  },
  {
   "cell_type": "code",
   "execution_count": 5,
   "metadata": {},
   "outputs": [
    {
     "data": {
      "text/html": [
       "<div>\n",
       "<style scoped>\n",
       "    .dataframe tbody tr th:only-of-type {\n",
       "        vertical-align: middle;\n",
       "    }\n",
       "\n",
       "    .dataframe tbody tr th {\n",
       "        vertical-align: top;\n",
       "    }\n",
       "\n",
       "    .dataframe thead th {\n",
       "        text-align: right;\n",
       "    }\n",
       "</style>\n",
       "<table border=\"1\" class=\"dataframe\">\n",
       "  <thead>\n",
       "    <tr style=\"text-align: right;\">\n",
       "      <th></th>\n",
       "      <th>Expert Mean(Std)</th>\n",
       "      <th>Behavioral Cloning</th>\n",
       "      <th>DAgger</th>\n",
       "    </tr>\n",
       "  </thead>\n",
       "  <tbody>\n",
       "    <tr>\n",
       "      <th>Ant-v2</th>\n",
       "      <td>4812.985(84.019)</td>\n",
       "      <td>4827.569(90.618)</td>\n",
       "      <td>4646.346(550.509)</td>\n",
       "    </tr>\n",
       "    <tr>\n",
       "      <th>HalfCheetah-v2</th>\n",
       "      <td>4142.17(75.643)</td>\n",
       "      <td>3992.12(122.34)</td>\n",
       "      <td>4093.712(127.101)</td>\n",
       "    </tr>\n",
       "    <tr>\n",
       "      <th>Hopper-v2</th>\n",
       "      <td>3778.045(3.943)</td>\n",
       "      <td>1688.032(614.337)</td>\n",
       "      <td>2837.985(660.367)</td>\n",
       "    </tr>\n",
       "    <tr>\n",
       "      <th>Humanoid-v2</th>\n",
       "      <td>10401.123(59.41)</td>\n",
       "      <td>386.604(59.577)</td>\n",
       "      <td>712.85(415.838)</td>\n",
       "    </tr>\n",
       "    <tr>\n",
       "      <th>Reacher-v2</th>\n",
       "      <td>-3.673(1.523)</td>\n",
       "      <td>-5.929(2.195)</td>\n",
       "      <td>-5.095(2.245)</td>\n",
       "    </tr>\n",
       "    <tr>\n",
       "      <th>Walker2d-v2</th>\n",
       "      <td>5490.934(118.741)</td>\n",
       "      <td>3532.856(2105.16)</td>\n",
       "      <td>5400.991(101.485)</td>\n",
       "    </tr>\n",
       "  </tbody>\n",
       "</table>\n",
       "</div>"
      ],
      "text/plain": [
       "                 Expert Mean(Std) Behavioral Cloning             DAgger\n",
       "Ant-v2           4812.985(84.019)   4827.569(90.618)  4646.346(550.509)\n",
       "HalfCheetah-v2    4142.17(75.643)    3992.12(122.34)  4093.712(127.101)\n",
       "Hopper-v2         3778.045(3.943)  1688.032(614.337)  2837.985(660.367)\n",
       "Humanoid-v2      10401.123(59.41)    386.604(59.577)    712.85(415.838)\n",
       "Reacher-v2          -3.673(1.523)      -5.929(2.195)      -5.095(2.245)\n",
       "Walker2d-v2     5490.934(118.741)  3532.856(2105.16)  5400.991(101.485)"
      ]
     },
     "execution_count": 5,
     "metadata": {},
     "output_type": "execute_result"
    }
   ],
   "source": [
    "df = pd.DataFrame(index = env_names, columns = ['Expert Mean(Std)','Behavioral Cloning','DAgger'])\n",
    "for env_name in env_names:\n",
    "    expert_data = read_expert_data('data/expert_data', env_name)\n",
    "    clone_data  = read_agent_data('data/agent_data',env_name,hidden_dim)\n",
    "    dagger_data = read_agent_data('data/agent_data',env_name,hidden_dim, 1)\n",
    "    \n",
    "    df.loc[env_name,'Expert Mean(Std)'] = str(np.around(np.mean(expert_data['returns']),3)) \\\n",
    "                                  + '(' + str(np.around(np.std(expert_data['returns']),3)) + ')'\n",
    "    \n",
    "    df.loc[env_name,'Behavioral Cloning'] = str(np.around(np.mean(clone_data['returns']),3)) \\\n",
    "                                    + '(' + str(np.around(np.std(clone_data['returns']),3)) + ')'\n",
    "    \n",
    "    df.loc[env_name,'DAgger'] = str(np.around(np.mean(dagger_data['returns']),3)) \\\n",
    "                        + '(' + str(np.around(np.std(dagger_data['returns']),3)) + ')'\n",
    "df"
   ]
  },
  {
   "cell_type": "markdown",
   "metadata": {},
   "source": [
    "## Section2. Behavioral Cloning"
   ]
  },
  {
   "cell_type": "markdown",
   "metadata": {},
   "source": [
    "### *2.1 Behavioral cloning agent that achieves comparable performance to the expert* \n",
    "#### *Ant-V2*"
   ]
  },
  {
   "cell_type": "code",
   "execution_count": 4,
   "metadata": {},
   "outputs": [],
   "source": [
    "env_name = env_names[0]\n",
    "\n",
    "clone_data  = read_agent_data('data/agent_data',env_name,hidden_dim)\n",
    "    \n",
    "clone_reward = clone_data['returns']\n",
    "clone_mean = np.mean(clone_data['returns'])\n",
    "clone_std = np.std(clone_data['returns'])\n",
    "\n",
    "expert_data = read_expert_data('data/expert_data',env_name)\n",
    "expert_mean = np.mean(expert_data['returns'])\n",
    "expert_std  = np.std(expert_data['returns'])"
   ]
  },
  {
   "cell_type": "code",
   "execution_count": 5,
   "metadata": {},
   "outputs": [
    {
     "data": {
      "image/png": "[encoded data removed]",
      "text/plain": [
       "<Figure size 432x288 with 1 Axes>"
      ]
     },
     "metadata": {
      "needs_background": "light"
     },
     "output_type": "display_data"
    }
   ],
   "source": [
    "plt.title('Ant-v2\\n', fontsize = 14)\n",
    "plt.bar(np.arange(2),[clone_mean,expert_mean], yerr = [clone_std, expert_std], \n",
    "        align = 'center', alpha = 0.5, capsize = 10)\n",
    "plt.ylabel('Mean of Sum of Rewards')\n",
    "plt.xlabel('Agents', fontsize = 12)\n",
    "plt.xticks(np.arange(2),['BC','Expert'])\n",
    "plt.ylim(4000,5200)\n",
    "plt.tight_layout()\n",
    "plt.show()"
   ]
  },
  {
   "cell_type": "code",
   "execution_count": 6,
   "metadata": {},
   "outputs": [
    {
     "data": {
      "image/png": "[encoded data removed]",
      "text/plain": [
       "<Figure size 432x288 with 1 Axes>"
      ]
     },
     "metadata": {
      "needs_background": "light"
     },
     "output_type": "display_data"
    }
   ],
   "source": [
    "plt.title('Ant-v2-rollouts\\n', fontsize = 14)\n",
    "plt.bar(np.arange(20),clone_reward, \n",
    "        align = 'center', alpha = 0.5, capsize = 10)\n",
    "plt.ylabel('Mean of Sum of Rewards')\n",
    "plt.ylim(1000,5500)\n",
    "plt.tight_layout()\n",
    "plt.show()"
   ]
  },
  {
   "cell_type": "markdown",
   "metadata": {},
   "source": [
    "*One of the most interesting aspects of environment Ant-v2 was that behavioral cloning surpasses the performance of expert agent. Since the environment is very simple, error in trajectory rather enhances the performance*"
   ]
  },
  {
   "cell_type": "code",
   "execution_count": null,
   "metadata": {},
   "outputs": [],
   "source": []
  },
  {
   "cell_type": "markdown",
   "metadata": {},
   "source": [
    "### *2.2 Behavioral cloning agent that dosen't achieve comparable performance to the expert*\n",
    "#### *Walker2d-v2*"
   ]
  },
  {
   "cell_type": "code",
   "execution_count": 7,
   "metadata": {},
   "outputs": [],
   "source": [
    "env_name = 'Walker2d-v2'\n",
    "\n",
    "clone_data  = read_agent_data('data/agent_data',env_name,hidden_dim)\n",
    "    \n",
    "clone_reward = clone_data['returns']\n",
    "clone_mean = np.mean(clone_data['returns'])\n",
    "clone_std = np.std(clone_data['returns'])\n",
    "\n",
    "expert_data = read_expert_data('data/expert_data',env_name)\n",
    "expert_mean = np.mean(expert_data['returns'])\n",
    "expert_std  = np.std(expert_data['returns'])"
   ]
  },
  {
   "cell_type": "code",
   "execution_count": 8,
   "metadata": {},
   "outputs": [
    {
     "data": {
      "image/png": "[encoded data removed]",
      "text/plain": [
       "<Figure size 432x288 with 1 Axes>"
      ]
     },
     "metadata": {
      "needs_background": "light"
     },
     "output_type": "display_data"
    }
   ],
   "source": [
    "plt.title('Walker2d-v2\\n', fontsize = 14)\n",
    "plt.bar(np.arange(2),[clone_mean,expert_mean], yerr = [clone_std, expert_std], \n",
    "        align = 'center', alpha = 0.5, capsize = 10)\n",
    "plt.ylabel('Mean of Sum of Rewards')\n",
    "plt.xlabel('Agents', fontsize = 12)\n",
    "plt.xticks(np.arange(2),['BC','Expert'])\n",
    "plt.ylim(1000,6000)\n",
    "plt.tight_layout()\n",
    "plt.show()"
   ]
  },
  {
   "cell_type": "code",
   "execution_count": 9,
   "metadata": {},
   "outputs": [
    {
     "data": {
      "image/png": "[encoded data removed]",
      "text/plain": [
       "<Figure size 432x288 with 1 Axes>"
      ]
     },
     "metadata": {
      "needs_background": "light"
     },
     "output_type": "display_data"
    }
   ],
   "source": [
    "plt.title('Walker2d-v2-rollouts\\n', fontsize = 14)\n",
    "plt.bar(np.arange(20),clone_reward, \n",
    "        align = 'center', alpha = 0.5, capsize = 10)\n",
    "plt.ylabel('Mean of Sum of Rewards')\n",
    "plt.ylim(0,6000)\n",
    "plt.tight_layout()\n",
    "plt.show()"
   ]
  },
  {
   "cell_type": "markdown",
   "metadata": {},
   "source": [
    "*Compared to Ant-v2 environment, behavioral Cloning agent in Walker2d-v2 has shown very poor performance compared to expert Agent. <br>\n",
    "By looking at the sum of rewards of each roll-out, we can easily say that the poor performance was caused from a tremendously huge variance. <br><br>\n",
    "My personal analysis for these outcomes caused from stableness and complexness of the environments.<br>\n",
    "Though small errors in environment are in-evitable, Ant-v2 environment allows agent to be adaptable to the new trajectory that was not seen during the training.<br>\n",
    "However in Walker2d-v2, complex environment doesn't let agent to deal with the states that were never experienced before*"
   ]
  },
  {
   "cell_type": "code",
   "execution_count": null,
   "metadata": {},
   "outputs": [],
   "source": []
  },
  {
   "cell_type": "markdown",
   "metadata": {},
   "source": [
    "### *2.3 Hyperparameter that affects the performance of the behavioral cloning agent*\n",
    "#### *Network-size*"
   ]
  },
  {
   "cell_type": "code",
   "execution_count": 10,
   "metadata": {},
   "outputs": [
    {
     "data": {
      "text/html": [
       "<div>\n",
       "<style scoped>\n",
       "    .dataframe tbody tr th:only-of-type {\n",
       "        vertical-align: middle;\n",
       "    }\n",
       "\n",
       "    .dataframe tbody tr th {\n",
       "        vertical-align: top;\n",
       "    }\n",
       "\n",
       "    .dataframe thead th {\n",
       "        text-align: right;\n",
       "    }\n",
       "</style>\n",
       "<table border=\"1\" class=\"dataframe\">\n",
       "  <thead>\n",
       "    <tr style=\"text-align: right;\">\n",
       "      <th></th>\n",
       "      <th>Hidden-50</th>\n",
       "      <th>Hidden-100</th>\n",
       "    </tr>\n",
       "  </thead>\n",
       "  <tbody>\n",
       "    <tr>\n",
       "      <th>Ant-v2</th>\n",
       "      <td>4798.416(117.273)</td>\n",
       "      <td>4827.569(90.618)</td>\n",
       "    </tr>\n",
       "    <tr>\n",
       "      <th>HalfCheetah-v2</th>\n",
       "      <td>3852.788(137.074)</td>\n",
       "      <td>3992.12(122.34)</td>\n",
       "    </tr>\n",
       "    <tr>\n",
       "      <th>Hopper-v2</th>\n",
       "      <td>1976.102(613.942)</td>\n",
       "      <td>1688.032(614.337)</td>\n",
       "    </tr>\n",
       "    <tr>\n",
       "      <th>Humanoid-v2</th>\n",
       "      <td>362.65(38.194)</td>\n",
       "      <td>386.604(59.577)</td>\n",
       "    </tr>\n",
       "    <tr>\n",
       "      <th>Reacher-v2</th>\n",
       "      <td>-7.506(3.223)</td>\n",
       "      <td>-5.929(2.195)</td>\n",
       "    </tr>\n",
       "    <tr>\n",
       "      <th>Walker2d-v2</th>\n",
       "      <td>4670.748(1659.975)</td>\n",
       "      <td>3532.856(2105.16)</td>\n",
       "    </tr>\n",
       "  </tbody>\n",
       "</table>\n",
       "</div>"
      ],
      "text/plain": [
       "                         Hidden-50         Hidden-100\n",
       "Ant-v2           4798.416(117.273)   4827.569(90.618)\n",
       "HalfCheetah-v2   3852.788(137.074)    3992.12(122.34)\n",
       "Hopper-v2        1976.102(613.942)  1688.032(614.337)\n",
       "Humanoid-v2         362.65(38.194)    386.604(59.577)\n",
       "Reacher-v2           -7.506(3.223)      -5.929(2.195)\n",
       "Walker2d-v2     4670.748(1659.975)  3532.856(2105.16)"
      ]
     },
     "execution_count": 10,
     "metadata": {},
     "output_type": "execute_result"
    }
   ],
   "source": [
    "df = pd.DataFrame(index = env_names, columns = ['Hidden-50','Hidden-100'])\n",
    "for env_name in env_names:\n",
    "    clone_data_50  = read_agent_data('data/agent_data',env_name,50)\n",
    "    clone_data_100 = read_agent_data('data/agent_data',env_name,100)\n",
    "    \n",
    "    df.loc[env_name,'Hidden-50'] = str(np.around(np.mean(clone_data_50['returns']),3)) \\\n",
    "                                    + '(' + str(np.around(np.std(clone_data_50['returns']),3)) + ')'\n",
    "    \n",
    "    df.loc[env_name,'Hidden-100'] = str(np.around(np.mean(clone_data_100['returns']),3)) \\\n",
    "                        + '(' + str(np.around(np.std(clone_data_100['returns']),3)) + ')'\n",
    "df"
   ]
  },
  {
   "cell_type": "markdown",
   "metadata": {},
   "source": [
    "*By looking at the tendency of increasement in sum of rewards with network sizes, it seems that larger network size helps agent to understand the complex environments.*"
   ]
  },
  {
   "cell_type": "code",
   "execution_count": null,
   "metadata": {},
   "outputs": [],
   "source": []
  },
  {
   "cell_type": "code",
   "execution_count": null,
   "metadata": {},
   "outputs": [],
   "source": []
  },
  {
   "cell_type": "markdown",
   "metadata": {},
   "source": [
    "## Section3. DAgger"
   ]
  },
  {
   "cell_type": "markdown",
   "metadata": {},
   "source": [
    "### *3.1 Results based on Iterations*"
   ]
  },
  {
   "cell_type": "code",
   "execution_count": 13,
   "metadata": {},
   "outputs": [
    {
     "data": {
      "text/html": [
       "<div>\n",
       "<style scoped>\n",
       "    .dataframe tbody tr th:only-of-type {\n",
       "        vertical-align: middle;\n",
       "    }\n",
       "\n",
       "    .dataframe tbody tr th {\n",
       "        vertical-align: top;\n",
       "    }\n",
       "\n",
       "    .dataframe thead th {\n",
       "        text-align: right;\n",
       "    }\n",
       "</style>\n",
       "<table border=\"1\" class=\"dataframe\">\n",
       "  <thead>\n",
       "    <tr style=\"text-align: right;\">\n",
       "      <th></th>\n",
       "      <th>Behavioral Cloning</th>\n",
       "      <th>DAgger-1</th>\n",
       "      <th>DAgger-2</th>\n",
       "    </tr>\n",
       "  </thead>\n",
       "  <tbody>\n",
       "    <tr>\n",
       "      <th>Ant-v2</th>\n",
       "      <td>4827.569(90.618)</td>\n",
       "      <td>4646.346(550.509)</td>\n",
       "      <td>4789.681(90.619)</td>\n",
       "    </tr>\n",
       "    <tr>\n",
       "      <th>HalfCheetah-v2</th>\n",
       "      <td>3992.12(122.34)</td>\n",
       "      <td>4093.712(127.101)</td>\n",
       "      <td>4073.33(87.371)</td>\n",
       "    </tr>\n",
       "    <tr>\n",
       "      <th>Hopper-v2</th>\n",
       "      <td>1688.032(614.337)</td>\n",
       "      <td>2837.985(660.367)</td>\n",
       "      <td>3779.235(3.746)</td>\n",
       "    </tr>\n",
       "    <tr>\n",
       "      <th>Humanoid-v2</th>\n",
       "      <td>386.604(59.577)</td>\n",
       "      <td>712.85(415.838)</td>\n",
       "      <td>914.493(491.653)</td>\n",
       "    </tr>\n",
       "    <tr>\n",
       "      <th>Reacher-v2</th>\n",
       "      <td>-5.929(2.195)</td>\n",
       "      <td>-5.095(2.245)</td>\n",
       "      <td>-4.307(2.986)</td>\n",
       "    </tr>\n",
       "    <tr>\n",
       "      <th>Walker2d-v2</th>\n",
       "      <td>3532.856(2105.16)</td>\n",
       "      <td>5400.991(101.485)</td>\n",
       "      <td>5396.58(101.367)</td>\n",
       "    </tr>\n",
       "  </tbody>\n",
       "</table>\n",
       "</div>"
      ],
      "text/plain": [
       "               Behavioral Cloning           DAgger-1          DAgger-2\n",
       "Ant-v2           4827.569(90.618)  4646.346(550.509)  4789.681(90.619)\n",
       "HalfCheetah-v2    3992.12(122.34)  4093.712(127.101)   4073.33(87.371)\n",
       "Hopper-v2       1688.032(614.337)  2837.985(660.367)   3779.235(3.746)\n",
       "Humanoid-v2       386.604(59.577)    712.85(415.838)  914.493(491.653)\n",
       "Reacher-v2          -5.929(2.195)      -5.095(2.245)     -4.307(2.986)\n",
       "Walker2d-v2     3532.856(2105.16)  5400.991(101.485)  5396.58(101.367)"
      ]
     },
     "execution_count": 13,
     "metadata": {},
     "output_type": "execute_result"
    }
   ],
   "source": [
    "df = pd.DataFrame(index = env_names, columns = ['Behavioral Cloning','DAgger-1', 'DAgger-2'])\n",
    "for env_name in env_names:\n",
    "    clone_data = read_agent_data('data/agent_data',env_name,hidden_dim)\n",
    "    dagger_data_1  = read_agent_data('data/agent_data',env_name,hidden_dim, 1)\n",
    "    dagger_data_2 = read_agent_data('data/agent_data',env_name,hidden_dim, 2)\n",
    "    \n",
    "    df.loc[env_name,'Behavioral Cloning'] = str(np.around(np.mean(clone_data['returns']),3)) \\\n",
    "                                  + '(' + str(np.around(np.std(clone_data['returns']),3)) + ')'\n",
    "    \n",
    "    df.loc[env_name,'DAgger-1'] = str(np.around(np.mean(dagger_data_1['returns']),3)) \\\n",
    "                                    + '(' + str(np.around(np.std(dagger_data_1['returns']),3)) + ')'\n",
    "    \n",
    "    df.loc[env_name,'DAgger-2'] = str(np.around(np.mean(dagger_data_2['returns']),3)) \\\n",
    "                        + '(' + str(np.around(np.std(dagger_data_2['returns']),3)) + ')'\n",
    "df"
   ]
  },
  {
   "cell_type": "markdown",
   "metadata": {},
   "source": [
    "> ####  *Note*\n",
    "\n",
    "*Dagger-1, -2 indicate the number of iterations of the algorithms*<br>"
   ]
  },
  {
   "cell_type": "markdown",
   "metadata": {},
   "source": [
    "### *3.2 Learning Curves*"
   ]
  },
  {
   "cell_type": "markdown",
   "metadata": {},
   "source": [
    "#### *Ant-v2*"
   ]
  },
  {
   "cell_type": "markdown",
   "metadata": {},
   "source": [
    "![title](images/Ant-v2.png)"
   ]
  },
  {
   "cell_type": "markdown",
   "metadata": {},
   "source": [
    "#### *HalfCheetah-v2*"
   ]
  },
  {
   "cell_type": "markdown",
   "metadata": {},
   "source": [
    "![title](images/HalfCheetah-v2.png)"
   ]
  },
  {
   "cell_type": "markdown",
   "metadata": {},
   "source": [
    "#### *Hopper-v2*"
   ]
  },
  {
   "cell_type": "markdown",
   "metadata": {},
   "source": [
    "![title](images/Hopper-v2.png)"
   ]
  },
  {
   "cell_type": "markdown",
   "metadata": {},
   "source": [
    "#### *Humanoid-v2*"
   ]
  },
  {
   "cell_type": "markdown",
   "metadata": {},
   "source": [
    "![title](images/Humanoid-v2.png)"
   ]
  },
  {
   "cell_type": "markdown",
   "metadata": {},
   "source": [
    "#### *Reacher-v2*"
   ]
  },
  {
   "cell_type": "markdown",
   "metadata": {},
   "source": [
    "![title](images/Reacher-v2.png)"
   ]
  },
  {
   "cell_type": "markdown",
   "metadata": {},
   "source": [
    "#### *Walker2d-v2*"
   ]
  },
  {
   "cell_type": "markdown",
   "metadata": {},
   "source": [
    "![title](images/Walker2d-v2.png)"
   ]
  },
  {
   "cell_type": "markdown",
   "metadata": {},
   "source": [
    "*The most interesting part of the training was that the some of the learning curves were popping up right after the data aggeregation. 'Hopper, Humanoid, Reacher, Walker2d' were the environments that have shown popping up which were exactly same environments that have shown success in DAgger*"
   ]
  },
  {
   "cell_type": "code",
   "execution_count": null,
   "metadata": {},
   "outputs": [],
   "source": []
  }
 ],
 "metadata": {
  "kernelspec": {
   "display_name": "Python 3",
   "language": "python",
   "name": "python3"
  },
  "language_info": {
   "codemirror_mode": {
    "name": "ipython",
    "version": 3
   },
   "file_extension": ".py",
   "mimetype": "text/x-python",
   "name": "python",
   "nbconvert_exporter": "python",
   "pygments_lexer": "ipython3",
   "version": "3.5.6"
  }
 },
 "nbformat": 4,
 "nbformat_minor": 2
}
