{
 "cells": [
  {
   "cell_type": "code",
   "execution_count": 1,
   "metadata": {},
   "outputs": [],
   "source": [
    "import tensorflow as tf\n",
    "import numpy as np"
   ]
  },
  {
   "cell_type": "markdown",
   "metadata": {},
   "source": [
    "### Build_MLP"
   ]
  },
  {
   "cell_type": "code",
   "execution_count": 2,
   "metadata": {},
   "outputs": [],
   "source": [
    "def build_mlp(input_placeholder, output_size, scope='nn_baseline', n_layers = 2, size = 64, activation=tf.tanh, output_activation=None):\n",
    "    \"\"\"\n",
    "        Builds a feedforward neural network\n",
    "        \n",
    "        arguments:\n",
    "            input_placeholder: placeholder variable for the state (batch_size, input_size)\n",
    "            output_size: size of the output layer\n",
    "            scope: variable scope of the network\n",
    "            n_layers: number of hidden layers\n",
    "            size: dimension of the hidden layer\n",
    "            activation: activation of the hidden layers\n",
    "            output_activation: activation of the ouput layers\n",
    "\n",
    "        returns:\n",
    "            output placeholder of the network (the result of a forward pass) \n",
    "\n",
    "        Hint: use tf.layers.dense    \n",
    "    \"\"\"\n",
    "    # YOUR CODE HERE\n",
    "    with tf.variable_scope(scope):\n",
    "        x = input_placeholder\n",
    "        for l in range(n_layers):\n",
    "            x = tf.layers.dense(inputs=x, units=size, activation = activation)\n",
    "\n",
    "        output_placeholder = tf.layers.dense(inputs = x, units = output_size, activation = output_activation)    \n",
    "        \n",
    "    return output_placeholder"
   ]
  },
  {
   "cell_type": "code",
   "execution_count": 3,
   "metadata": {},
   "outputs": [
    {
     "data": {
      "text/plain": [
       "<tf.Tensor 'nn_baseline/dense_2/BiasAdd:0' shape=(128, 5) dtype=float64>"
      ]
     },
     "execution_count": 3,
     "metadata": {},
     "output_type": "execute_result"
    }
   ],
   "source": [
    "tf.reset_default_graph()\n",
    "\n",
    "input_placeholder = tf.placeholder(tf.float64, [128, 10])\n",
    "build_mlp(input_placeholder, 5)"
   ]
  },
  {
   "cell_type": "markdown",
   "metadata": {},
   "source": [
    "### Computation Graph"
   ]
  },
  {
   "cell_type": "code",
   "execution_count": 143,
   "metadata": {},
   "outputs": [],
   "source": [
    "tf.reset_default_graph()\n",
    "\n",
    "ob_dim = 1\n",
    "ac_dim = 4\n",
    "discrete = True\n",
    "\n",
    "batch_size = 64"
   ]
  },
  {
   "cell_type": "code",
   "execution_count": 144,
   "metadata": {},
   "outputs": [
    {
     "name": "stdout",
     "output_type": "stream",
     "text": [
      "Tensor(\"ob:0\", shape=(?, 1), dtype=float32)\n",
      "Tensor(\"ac:0\", shape=(?,), dtype=int32)\n",
      "Tensor(\"adv:0\", shape=(?,), dtype=float32)\n"
     ]
    }
   ],
   "source": [
    "sy_ob_no = tf.placeholder(shape=[None, ob_dim], name=\"ob\", dtype=tf.float32)\n",
    "if discrete == True:\n",
    "    sy_ac_na = tf.placeholder(shape=[None], name=\"ac\", dtype=tf.int32) \n",
    "else:\n",
    "    sy_ac_na = tf.placeholder(shape=[None, ac_dim], name=\"ac\", dtype=tf.float32) \n",
    "sy_adv_n = tf.placeholder(shape=[None], name=\"adv\",dtype=tf.float32)\n",
    "\n",
    "print(sy_ob_no)\n",
    "print(sy_ac_na)\n",
    "print(sy_adv_n)"
   ]
  },
  {
   "cell_type": "code",
   "execution_count": 145,
   "metadata": {},
   "outputs": [
    {
     "name": "stdout",
     "output_type": "stream",
     "text": [
      "Tensor(\"policy/dense_2/BiasAdd:0\", shape=(?, 4), dtype=float32)\n"
     ]
    }
   ],
   "source": [
    "## Forward Pass\n",
    "\n",
    "if discrete:\n",
    "    sy_logits_na = build_mlp(sy_ob_no, ac_dim, scope = \"policy\")\n",
    "    print(sy_logits_na)\n",
    "    \n",
    "else:\n",
    "    sy_mean = build_mlp(sy_ob_no, ac_dim, scope = \"policy\")\n",
    "    sy_logstd = tf.Variable(tf.zeros([ac_dim]), name = \"std\")\n",
    "    print(sy_mean)\n",
    "    print(sy_logstd)"
   ]
  },
  {
   "cell_type": "code",
   "execution_count": 146,
   "metadata": {},
   "outputs": [
    {
     "name": "stdout",
     "output_type": "stream",
     "text": [
      "Tensor(\"multinomial/Multinomial:0\", shape=(?, 1), dtype=int64)\n"
     ]
    }
   ],
   "source": [
    "if discrete:\n",
    "    sy_sampled_ac = tf.multinomial(sy_logits_na, num_samples = 1)\n",
    "\n",
    "else:\n",
    "    epsilon = tf.random_normal([ac_dim])\n",
    "    sy_sampled_ac = sy_mean + epsilon * tf.exp(sy_logstd)\n",
    "print(sy_sampled_ac)"
   ]
  },
  {
   "cell_type": "code",
   "execution_count": 147,
   "metadata": {},
   "outputs": [
    {
     "name": "stdout",
     "output_type": "stream",
     "text": [
      "Tensor(\"SparseSoftmaxCrossEntropyWithLogits/SparseSoftmaxCrossEntropyWithLogits:0\", shape=(?,), dtype=float32)\n"
     ]
    }
   ],
   "source": [
    "# Logits: probability of policy in forward pass, labels = action that has taken by policy\n",
    "if discrete:\n",
    "    sy_logprob_n = tf.nn.sparse_softmax_cross_entropy_with_logits(logits = sy_logits_na, labels = sy_ac_na)\n",
    "else:\n",
    "    sy_std = tf.exp(sy_logstd)\n",
    "    # Z ~ N(0,1)\n",
    "    sy_z  = (sy_ac_na - sy_mean) / sy_std\n",
    "    sy_logprob_n = -0.5 * tf.reduce_sum(tf.square(sy_z), axis=1)\n",
    "print(sy_logprob_n)"
   ]
  },
  {
   "cell_type": "code",
   "execution_count": 148,
   "metadata": {},
   "outputs": [
    {
     "name": "stdout",
     "output_type": "stream",
     "text": [
      "log probability of taken action with given observation:\n",
      "[array([[3],\n",
      "       [1],\n",
      "       [2],\n",
      "       [2],\n",
      "       [1],\n",
      "       [2]])]\n"
     ]
    }
   ],
   "source": [
    "observations = np.array([0,1,0,1,0,1]).reshape(6,1)\n",
    "if discrete:\n",
    "    actions = np.array([1,3,1,2,0,1])\n",
    "else:\n",
    "    actions = np.array([[0,1,2,2],[1,1,2,2],[1,4,2,2],[1,0,5,3],[4,4,2,2],[1,1,6,5]]) \n",
    "\n",
    "with tf.Session() as sess:\n",
    "    sess.run(tf.global_variables_initializer())\n",
    "    \n",
    "    prob = sess.run([sy_sampled_ac], feed_dict= {sy_ob_no: observations,\n",
    "                                                sy_ac_na: actions})\n",
    "print('log probability of taken action with given observation:')\n",
    "print(prob)"
   ]
  },
  {
   "cell_type": "code",
   "execution_count": 151,
   "metadata": {},
   "outputs": [
    {
     "data": {
      "text/plain": [
       "(6, 1)"
      ]
     },
     "execution_count": 151,
     "metadata": {},
     "output_type": "execute_result"
    }
   ],
   "source": [
    "prob[0].shape"
   ]
  },
  {
   "cell_type": "code",
   "execution_count": null,
   "metadata": {},
   "outputs": [],
   "source": []
  }
 ],
 "metadata": {
  "kernelspec": {
   "display_name": "Python 3",
   "language": "python",
   "name": "python3"
  },
  "language_info": {
   "codemirror_mode": {
    "name": "ipython",
    "version": 3
   },
   "file_extension": ".py",
   "mimetype": "text/x-python",
   "name": "python",
   "nbconvert_exporter": "python",
   "pygments_lexer": "ipython3",
   "version": "3.5.6"
  }
 },
 "nbformat": 4,
 "nbformat_minor": 2
}
